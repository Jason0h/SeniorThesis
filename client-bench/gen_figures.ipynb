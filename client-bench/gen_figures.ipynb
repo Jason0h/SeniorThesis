{
 "cells": [
  {
   "cell_type": "code",
   "execution_count": 2,
   "id": "dangerous-season",
   "metadata": {},
   "outputs": [
    {
     "ename": "ImportError",
     "evalue": "cannot import name 'common_texification' from 'matplotlib.backends.backend_pgf' (/home/np/hack/scuba/scuba/client-bench/venv/lib/python3.10/site-packages/matplotlib/backends/backend_pgf.py)",
     "output_type": "error",
     "traceback": [
      "\u001b[0;31m---------------------------------------------------------------------------\u001b[0m",
      "\u001b[0;31mImportError\u001b[0m                               Traceback (most recent call last)",
      "Cell \u001b[0;32mIn[2], line 3\u001b[0m\n\u001b[1;32m      1\u001b[0m \u001b[38;5;28;01mimport\u001b[39;00m \u001b[38;5;21;01mre\u001b[39;00m\n\u001b[1;32m      2\u001b[0m \u001b[38;5;28;01mimport\u001b[39;00m \u001b[38;5;21;01mmatplotlib\u001b[39;00m\u001b[38;5;21;01m.\u001b[39;00m\u001b[38;5;21;01mpyplot\u001b[39;00m \u001b[38;5;28;01mas\u001b[39;00m \u001b[38;5;21;01mplt\u001b[39;00m\n\u001b[0;32m----> 3\u001b[0m \u001b[38;5;28;01mimport\u001b[39;00m \u001b[38;5;21;01mtikzplotlib\u001b[39;00m\n\u001b[1;32m      4\u001b[0m \u001b[38;5;28;01mimport\u001b[39;00m \u001b[38;5;21;01mpandas\u001b[39;00m \u001b[38;5;28;01mas\u001b[39;00m \u001b[38;5;21;01mpd\u001b[39;00m\n\u001b[1;32m      5\u001b[0m \u001b[38;5;28;01mimport\u001b[39;00m \u001b[38;5;21;01mnumpy\u001b[39;00m \u001b[38;5;28;01mas\u001b[39;00m \u001b[38;5;21;01mnp\u001b[39;00m\n",
      "File \u001b[0;32m~/hack/scuba/scuba/client-bench/venv/lib/python3.10/site-packages/tikzplotlib/__init__.py:5\u001b[0m\n\u001b[1;32m      3\u001b[0m \u001b[38;5;28;01mfrom\u001b[39;00m \u001b[38;5;21;01m.\u001b[39;00m\u001b[38;5;21;01m__about__\u001b[39;00m \u001b[38;5;28;01mimport\u001b[39;00m __version__\n\u001b[1;32m      4\u001b[0m \u001b[38;5;28;01mfrom\u001b[39;00m \u001b[38;5;21;01m.\u001b[39;00m\u001b[38;5;21;01m_cleanfigure\u001b[39;00m \u001b[38;5;28;01mimport\u001b[39;00m clean_figure\n\u001b[0;32m----> 5\u001b[0m \u001b[38;5;28;01mfrom\u001b[39;00m \u001b[38;5;21;01m.\u001b[39;00m\u001b[38;5;21;01m_save\u001b[39;00m \u001b[38;5;28;01mimport\u001b[39;00m Flavors, get_tikz_code, save\n\u001b[1;32m      7\u001b[0m __all__ \u001b[38;5;241m=\u001b[39m [\n\u001b[1;32m      8\u001b[0m     \u001b[38;5;124m\"\u001b[39m\u001b[38;5;124m__version__\u001b[39m\u001b[38;5;124m\"\u001b[39m,\n\u001b[1;32m      9\u001b[0m     \u001b[38;5;124m\"\u001b[39m\u001b[38;5;124mget_tikz_code\u001b[39m\u001b[38;5;124m\"\u001b[39m,\n\u001b[0;32m   (...)\u001b[0m\n\u001b[1;32m     12\u001b[0m     \u001b[38;5;124m\"\u001b[39m\u001b[38;5;124mFlavors\u001b[39m\u001b[38;5;124m\"\u001b[39m,\n\u001b[1;32m     13\u001b[0m ]\n",
      "File \u001b[0;32m~/hack/scuba/scuba/client-bench/venv/lib/python3.10/site-packages/tikzplotlib/_save.py:11\u001b[0m\n\u001b[1;32m      8\u001b[0m \u001b[38;5;28;01mimport\u001b[39;00m \u001b[38;5;21;01mmatplotlib\u001b[39;00m \u001b[38;5;28;01mas\u001b[39;00m \u001b[38;5;21;01mmpl\u001b[39;00m\n\u001b[1;32m      9\u001b[0m \u001b[38;5;28;01mimport\u001b[39;00m \u001b[38;5;21;01mmatplotlib\u001b[39;00m\u001b[38;5;21;01m.\u001b[39;00m\u001b[38;5;21;01mpyplot\u001b[39;00m \u001b[38;5;28;01mas\u001b[39;00m \u001b[38;5;21;01mplt\u001b[39;00m\n\u001b[0;32m---> 11\u001b[0m \u001b[38;5;28;01mfrom\u001b[39;00m \u001b[38;5;21;01m.\u001b[39;00m \u001b[38;5;28;01mimport\u001b[39;00m _axes\n\u001b[1;32m     12\u001b[0m \u001b[38;5;28;01mfrom\u001b[39;00m \u001b[38;5;21;01m.\u001b[39;00m \u001b[38;5;28;01mimport\u001b[39;00m _image \u001b[38;5;28;01mas\u001b[39;00m img\n\u001b[1;32m     13\u001b[0m \u001b[38;5;28;01mfrom\u001b[39;00m \u001b[38;5;21;01m.\u001b[39;00m \u001b[38;5;28;01mimport\u001b[39;00m _legend, _line2d, _patch, _path\n",
      "File \u001b[0;32m~/hack/scuba/scuba/client-bench/venv/lib/python3.10/site-packages/tikzplotlib/_axes.py:3\u001b[0m\n\u001b[1;32m      1\u001b[0m \u001b[38;5;28;01mimport\u001b[39;00m \u001b[38;5;21;01mmatplotlib\u001b[39;00m \u001b[38;5;28;01mas\u001b[39;00m \u001b[38;5;21;01mmpl\u001b[39;00m\n\u001b[1;32m      2\u001b[0m \u001b[38;5;28;01mimport\u001b[39;00m \u001b[38;5;21;01mnumpy\u001b[39;00m \u001b[38;5;28;01mas\u001b[39;00m \u001b[38;5;21;01mnp\u001b[39;00m\n\u001b[0;32m----> 3\u001b[0m \u001b[38;5;28;01mfrom\u001b[39;00m \u001b[38;5;21;01mmatplotlib\u001b[39;00m\u001b[38;5;21;01m.\u001b[39;00m\u001b[38;5;21;01mbackends\u001b[39;00m\u001b[38;5;21;01m.\u001b[39;00m\u001b[38;5;21;01mbackend_pgf\u001b[39;00m \u001b[38;5;28;01mimport\u001b[39;00m (\n\u001b[1;32m      4\u001b[0m     common_texification \u001b[38;5;28;01mas\u001b[39;00m mpl_common_texification,\n\u001b[1;32m      5\u001b[0m )\n\u001b[1;32m      7\u001b[0m \u001b[38;5;28;01mfrom\u001b[39;00m \u001b[38;5;21;01m.\u001b[39;00m \u001b[38;5;28;01mimport\u001b[39;00m _color\n\u001b[1;32m     10\u001b[0m \u001b[38;5;28;01mdef\u001b[39;00m \u001b[38;5;21m_common_texification\u001b[39m(string):\n\u001b[1;32m     11\u001b[0m     \u001b[38;5;66;03m# Work around <https://github.com/matplotlib/matplotlib/issues/15493>\u001b[39;00m\n",
      "\u001b[0;31mImportError\u001b[0m: cannot import name 'common_texification' from 'matplotlib.backends.backend_pgf' (/home/np/hack/scuba/scuba/client-bench/venv/lib/python3.10/site-packages/matplotlib/backends/backend_pgf.py)"
     ]
    }
   ],
   "source": [
    "import re\n",
    "import matplotlib.pyplot as plt\n",
    "import tikzplotlib\n",
    "import pandas as pd\n",
    "import numpy as np"
   ]
  },
  {
   "cell_type": "code",
   "execution_count": 2,
   "id": "collected-expansion",
   "metadata": {},
   "outputs": [],
   "source": [
    "def get_means(filename):\n",
    "    send_means = []\n",
    "    with open(filename) as f:\n",
    "        ctr = 0\n",
    "        line = f.readline()\n",
    "        while (line):\n",
    "            ctr += 1\n",
    "            match = re.search(\n",
    "                \"([0-9]+)[\\s]+([0-9]+\\.[0-9]+)[\\s]+([0-9]+\\.[0-9]+)[\\s]+([0-9]+\\.[0-9]+)[\\s]+([0-9]+\\.[0-9]+)[\\s]+([0-9]+\\.[0-9]+)\",\n",
    "                line\n",
    "            )\n",
    "            if match:\n",
    "            \n",
    "                send_means.append(float(match.group(2)))\n",
    "                send_means.append(float(match.group(3)))\n",
    "                send_means.append(float(match.group(4)))\n",
    "                send_means.append(float(match.group(5)))\n",
    "                send_means.append(float(match.group(6)))\n",
    "\n",
    "            line = f.readline()\n",
    "        \n",
    "        print(\"counted: \", ctr)\n",
    "        #print(send_means)\n",
    "        \n",
    "    return send_means\n"
   ]
  },
  {
   "cell_type": "code",
   "execution_count": 3,
   "id": "upset-fruit",
   "metadata": {
    "scrolled": true
   },
   "outputs": [
    {
     "name": "stdout",
     "output_type": "stream",
     "text": [
      "counted:  7\n",
      "counted:  7\n",
      "counted:  7\n",
      "counted:  7\n"
     ]
    }
   ],
   "source": [
    "send_update_pass_means = get_means(\"./send_means_update_pass.txt\")\n",
    "recv_update_pass_means = get_means(\"./recv_means_update_pass.txt\")\n",
    "send_edit_post_means = get_means(\"./send_means_edit_post.txt\")\n",
    "recv_edit_post_means = get_means(\"./recv_means_edit_post.txt\")\n"
   ]
  },
  {
   "cell_type": "code",
   "execution_count": 4,
   "id": "alternative-player",
   "metadata": {},
   "outputs": [
    {
     "data": {
      "text/plain": [
       "<function matplotlib.pyplot.show(close=None, block=None)>"
      ]
     },
     "execution_count": 4,
     "metadata": {},
     "output_type": "execute_result"
    },
    {
     "data": {
      "image/png": "[encoded data removed]",
      "text/plain": [
       "<Figure size 432x288 with 1 Axes>"
      ]
     },
     "metadata": {
      "needs_background": "light"
     },
     "output_type": "display_data"
    }
   ],
   "source": [
    "send_update_pass_df = pd.DataFrame([\n",
    "    #[\"1clients\", \n",
    "    [send_update_pass_means[0], send_update_pass_means[1], send_update_pass_means[2], send_update_pass_means[3], send_update_pass_means[4]],\n",
    "    #[\"2clients\", \n",
    "    #[send_update_pass_means[5], send_update_pass_means[6], send_update_pass_means[7], send_update_pass_means[8], send_update_pass_means[9]],\n",
    "    #[\"4clients\", \n",
    "    #[send_update_pass_means[10], send_update_pass_means[11], send_update_pass_means[12], send_update_pass_means[13], send_update_pass_means[14]],\n",
    "    #[\"8clients\", \n",
    "    [send_update_pass_means[15], send_update_pass_means[16], send_update_pass_means[17], send_update_pass_means[18], send_update_pass_means[19]],\n",
    "    #[\"16clients\", \n",
    "    #[send_update_pass_means[20], send_update_pass_means[21], send_update_pass_means[22], send_update_pass_means[23], send_update_pass_means[24]],\n",
    "    #[\"32clients\", \n",
    "    [send_update_pass_means[25], send_update_pass_means[26], send_update_pass_means[27], send_update_pass_means[28], send_update_pass_means[29]],\n",
    "],\n",
    "    columns=[\"Sym-Enc\", \"Sess-Enc\", \"POVS\", \"TANK\", \"App logic\"],\n",
    "    #index=[\"1\", \"2\", \"4\", \"8\", \"16\", \"32\"]\n",
    "    index=[\"1\", \"8\", \"32\"]\n",
    ")\n",
    "send_update_pass_df.plot(kind='bar', stacked=True, title='Send overheads')\n",
    "plt.show\n"
   ]
  },
  {
   "cell_type": "code",
   "execution_count": 5,
   "id": "lyric-booth",
   "metadata": {},
   "outputs": [
    {
     "data": {
      "text/plain": [
       "<function matplotlib.pyplot.show(close=None, block=None)>"
      ]
     },
     "execution_count": 5,
     "metadata": {},
     "output_type": "execute_result"
    },
    {
     "data": {
      "image/png": "[encoded data removed]",
      "text/plain": [
       "<Figure size 432x288 with 1 Axes>"
      ]
     },
     "metadata": {
      "needs_background": "light"
     },
     "output_type": "display_data"
    }
   ],
   "source": [
    "send_edit_post_df = pd.DataFrame([\n",
    "    #[\"1clients\", \n",
    "    [send_edit_post_means[0], send_edit_post_means[1], send_edit_post_means[2], send_edit_post_means[3], send_edit_post_means[4]],\n",
    "    #[\"2clients\", \n",
    "    #[send_edit_post_means[5], send_edit_post_means[6], send_edit_post_means[7], send_edit_post_means[8], send_edit_post_means[9]],\n",
    "    #[\"4clients\", \n",
    "    #[send_edit_post_means[10], send_edit_post_means[11], send_edit_post_means[12], send_edit_post_means[13], send_edit_post_means[14]],\n",
    "    #[\"8clients\", \n",
    "    [send_edit_post_means[15], send_edit_post_means[16], send_edit_post_means[17], send_edit_post_means[18], send_edit_post_means[19]],\n",
    "    #[\"16clients\", \n",
    "    #[send_edit_post_means[20], send_edit_post_means[21], send_edit_post_means[22], send_edit_post_means[23], send_edit_post_means[24]],\n",
    "    #[\"32clients\", \n",
    "    [send_edit_post_means[25], send_edit_post_means[26], send_edit_post_means[27], send_edit_post_means[28], send_edit_post_means[29]],\n",
    "],\n",
    "    columns=[\"Sym-Enc\", \"Sess-Enc\", \"POVS\", \"TANK\", \"App logic\"],\n",
    "    #index=[\"1\", \"2\", \"4\", \"8\", \"16\", \"32\"]\n",
    "    index=[\"1\", \"8\", \"32\"]\n",
    ")\n",
    "send_edit_post_df.plot(kind='bar', stacked=True, title='Send overheads')\n",
    "plt.show\n"
   ]
  },
  {
   "cell_type": "code",
   "execution_count": 6,
   "id": "inside-reality",
   "metadata": {},
   "outputs": [
    {
     "data": {
      "text/plain": [
       "<function matplotlib.pyplot.show(close=None, block=None)>"
      ]
     },
     "execution_count": 6,
     "metadata": {},
     "output_type": "execute_result"
    },
    {
     "data": {
      "image/png": "[encoded data removed]",
      "text/plain": [
       "<Figure size 432x288 with 1 Axes>"
      ]
     },
     "metadata": {
      "needs_background": "light"
     },
     "output_type": "display_data"
    }
   ],
   "source": [
    "recv_update_pass_df = pd.DataFrame([\n",
    "    #[\"1clients\", \n",
    "    [recv_update_pass_means[0], recv_update_pass_means[1], recv_update_pass_means[2], recv_update_pass_means[3], recv_update_pass_means[4]],\n",
    "    #[\"2clients\", \n",
    "    #[recv_update_pass_means[5], recv_update_pass_means[6], recv_update_pass_means[7], recv_update_pass_means[8], recv_update_pass_means[9]],\n",
    "    #[\"4clients\", \n",
    "    #[recv_update_pass_means[10], recv_update_pass_means[11], recv_update_pass_means[12], recv_update_pass_means[13], recv_update_pass_means[14]],\n",
    "    #[\"8clients\", \n",
    "    [recv_update_pass_means[15], recv_update_pass_means[16], recv_update_pass_means[17], recv_update_pass_means[18], recv_update_pass_means[19]],\n",
    "    #[\"16clients\", \n",
    "    #[recv_update_pass_means[20], recv_update_pass_means[21], recv_update_pass_means[22], recv_update_pass_means[23], recv_update_pass_means[24]],\n",
    "    #[\"32clients\", \n",
    "    [recv_update_pass_means[25], recv_update_pass_means[26], recv_update_pass_means[27], recv_update_pass_means[28], recv_update_pass_means[29]],\n",
    "],\n",
    "    columns=[\"Sym-Dec\", \"Sess-Dec\", \"POVS\", \"TANK\", \"App logic\"],\n",
    "    #index=[\"1\", \"2\", \"4\", \"8\", \"16\", \"32\"]\n",
    "    index=[\"1\", \"8\", \"32\"]\n",
    ")\n",
    "recv_update_pass_df.plot(kind='bar', stacked=True, title='Send overheads')\n",
    "plt.show\n"
   ]
  },
  {
   "cell_type": "code",
   "execution_count": 7,
   "id": "corrected-delivery",
   "metadata": {},
   "outputs": [
    {
     "data": {
      "text/plain": [
       "<function matplotlib.pyplot.show(close=None, block=None)>"
      ]
     },
     "execution_count": 7,
     "metadata": {},
     "output_type": "execute_result"
    },
    {
     "data": {
      "image/png": "[encoded data removed]",
      "text/plain": [
       "<Figure size 432x288 with 1 Axes>"
      ]
     },
     "metadata": {
      "needs_background": "light"
     },
     "output_type": "display_data"
    }
   ],
   "source": [
    "recv_edit_post_df = pd.DataFrame([\n",
    "    #[\"1clients\", \n",
    "    [recv_edit_post_means[0], recv_edit_post_means[1], recv_edit_post_means[2], recv_edit_post_means[3], recv_edit_post_means[4]],\n",
    "    #[\"2clients\", \n",
    "    #[recv_edit_post_means[5], recv_edit_post_means[6], recv_edit_post_means[7], recv_edit_post_means[8], recv_edit_post_means[9]],\n",
    "    #[\"4clients\", \n",
    "    #[recv_edit_post_means[10], recv_edit_post_means[11], recv_edit_post_means[12], recv_edit_post_means[13], recv_edit_post_means[14]],\n",
    "    #[\"8clients\", \n",
    "    [recv_edit_post_means[15], recv_edit_post_means[16], recv_edit_post_means[17], recv_edit_post_means[18], recv_edit_post_means[19]],\n",
    "    #[\"16clients\", \n",
    "    #[recv_edit_post_means[20], recv_edit_post_means[21], recv_edit_post_means[22], recv_edit_post_means[23], recv_edit_post_means[24]],\n",
    "    #[\"32clients\", \n",
    "    [recv_edit_post_means[25], recv_edit_post_means[26], recv_edit_post_means[27], recv_edit_post_means[28], recv_edit_post_means[29]],\n",
    "],\n",
    "    columns=[\"Sym-Dec\", \"Sess-Dec\", \"POVS\", \"TANK\", \"App logic\"],\n",
    "    #index=[\"1\", \"2\", \"4\", \"8\", \"16\", \"32\"]\n",
    "    index=[\"1\", \"8\", \"32\"]\n",
    ")\n",
    "recv_edit_post_df.plot(kind='bar', stacked=True, title='Send overheads')\n",
    "plt.show\n",
    "\n"
   ]
  },
  {
   "cell_type": "code",
   "execution_count": 8,
   "id": "instrumental-lloyd",
   "metadata": {},
   "outputs": [],
   "source": [
    "def plot_clustered_stacked(dfall, labels=None, title=None,  H=\"/\", **kwargs):\n",
    "    \"\"\"Given a list of dataframes, with identical columns and index, create a clustered stacked bar plot. \n",
    "labels is a list of the names of the dataframe, used for the legend\n",
    "title is a string for the title of the plot\n",
    "H is the hatch used for identification of the different dataframe\"\"\"\n",
    "\n",
    "    n_df = len(dfall)\n",
    "    n_col = len(dfall[0].columns)\n",
    "    n_ind = len(dfall[0].index)\n",
    "    axe = plt.subplot(1,1,1)\n",
    "\n",
    "    for df in dfall : # for each data frame\n",
    "        axe = df.plot(kind=\"bar\",\n",
    "                      linewidth=0,\n",
    "                      stacked=True,\n",
    "                      ax=axe,\n",
    "                      legend=False,\n",
    "                      grid=False,\n",
    "                      **kwargs)  # make bar plots\n",
    "\n",
    "    h,l = axe.get_legend_handles_labels() # get the handles we want to modify\n",
    "    \n",
    "    for i in range(0, n_df * n_col, n_col): # len(h) = n_col * n_df\n",
    "        for j, pa in enumerate(h[i:i+n_col]):\n",
    "            for rect in pa.patches: # for each index\n",
    "                rect.set_x(rect.get_x() + 1 / float(n_df + 1) * i / float(n_col))\n",
    "                rect.set_hatch(H * int(i / n_col)) #edited part     \n",
    "                rect.set_width(1 / float(n_df + 1))\n",
    "\n",
    "    axe.set_xticks((np.arange(0, 2 * n_ind, 2) + 1 / float(n_df + 1)) / 2.)\n",
    "    axe.set_xticklabels(df.index, rotation = 0)\n",
    "    axe.set_title(title)\n",
    "\n",
    "    # Add invisible data to add another legend\n",
    "    n=[]        \n",
    "    for i in range(n_df):\n",
    "        n.append(axe.bar(0, 0, color=\"gray\", hatch=H * i))\n",
    "\n",
    "    l1 = axe.legend(h[:n_col], l[:n_col], loc=[0.027, 0.6])\n",
    "    if labels is not None:\n",
    "        l2 = plt.legend(n, labels, loc=[0.3, 0.8]) \n",
    "    axe.add_artist(l1)\n",
    "    \n",
    "    f = plt.figure()\n",
    "    f.savefig(\"foo2.pdf\")\n",
    "    \n",
    "    return axe\n"
   ]
  },
  {
   "cell_type": "code",
   "execution_count": 9,
   "id": "conservative-lottery",
   "metadata": {},
   "outputs": [
    {
     "data": {
      "text/plain": [
       "<AxesSubplot:title={'center':'Send Overheads'}>"
      ]
     },
     "execution_count": 9,
     "metadata": {},
     "output_type": "execute_result"
    },
    {
     "data": {
      "image/png": "[encoded data removed]",
      "text/plain": [
       "<Figure size 432x288 with 1 Axes>"
      ]
     },
     "metadata": {
      "needs_background": "light"
     },
     "output_type": "display_data"
    },
    {
     "data": {
      "text/plain": [
       "<Figure size 432x288 with 0 Axes>"
      ]
     },
     "metadata": {},
     "output_type": "display_data"
    }
   ],
   "source": [
    "plot_clustered_stacked([send_update_pass_df, send_edit_post_df],[\"update_pass\", \"edit_post\"], \"Send Overheads\")"
   ]
  },
  {
   "cell_type": "code",
   "execution_count": 10,
   "id": "electrical-apparel",
   "metadata": {},
   "outputs": [
    {
     "data": {
      "text/plain": [
       "<AxesSubplot:title={'center':'Receive Overheads'}>"
      ]
     },
     "execution_count": 10,
     "metadata": {},
     "output_type": "execute_result"
    },
    {
     "data": {
      "image/png": "[encoded data removed]",
      "text/plain": [
       "<Figure size 432x288 with 1 Axes>"
      ]
     },
     "metadata": {
      "needs_background": "light"
     },
     "output_type": "display_data"
    },
    {
     "data": {
      "text/plain": [
       "<Figure size 432x288 with 0 Axes>"
      ]
     },
     "metadata": {},
     "output_type": "display_data"
    }
   ],
   "source": [
    "plot_clustered_stacked([recv_update_pass_df, recv_edit_post_df],[\"update_pass\", \"edit_post\"], \"Receive Overheads\")"
   ]
  },
  {
   "cell_type": "code",
   "execution_count": null,
   "id": "meaning-onion",
   "metadata": {},
   "outputs": [],
   "source": []
  }
 ],
 "metadata": {
  "kernelspec": {
   "display_name": "Python 3 (ipykernel)",
   "language": "python",
   "name": "python3"
  },
  "language_info": {
   "codemirror_mode": {
    "name": "ipython",
    "version": 3
   },
   "file_extension": ".py",
   "mimetype": "text/x-python",
   "name": "python",
   "nbconvert_exporter": "python",
   "pygments_lexer": "ipython3",
   "version": "3.10.12"
  }
 },
 "nbformat": 4,
 "nbformat_minor": 5
}
