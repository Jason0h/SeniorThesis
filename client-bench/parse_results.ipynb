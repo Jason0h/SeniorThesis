{
 "cells": [
  {
   "cell_type": "code",
   "execution_count": 1,
   "id": "735c388d-e8e2-4586-8d7b-867a57eb7c55",
   "metadata": {},
   "outputs": [
    {
     "name": "stderr",
     "output_type": "stream",
     "text": [
      "/tmp/ipykernel_83806/948647749.py:5: DeprecationWarning: \n",
      "Pyarrow will become a required dependency of pandas in the next major release of pandas (pandas 3.0),\n",
      "(to allow more performant data types, such as the Arrow string type, and better interoperability with other libraries)\n",
      "but was not found to be installed on your system.\n",
      "If this would cause problems for you,\n",
      "please provide us feedback at https://github.com/pandas-dev/pandas/issues/54466\n",
      "        \n",
      "  import pandas as pd\n"
     ]
    }
   ],
   "source": [
    "import re\n",
    "from statistics import mean\n",
    "import matplotlib.pyplot as plt\n",
    "import numpy as np\n",
    "import pandas as pd"
   ]
  },
  {
   "cell_type": "code",
   "execution_count": 2,
   "id": "0cfba187-8a9b-439f-94b4-140ec8997592",
   "metadata": {},
   "outputs": [],
   "source": [
    "# TODO make sure these are all correct before running this notebook !!!\n",
    "\n",
    "# True if you want to parse password manager results, False if you want to parse family app results\n",
    "pass_bmark = False\n",
    "\n",
    "# Check [num] at the end of each directory\n",
    "if pass_bmark:\n",
    "    subdir = \"/update_pass_output_0\"\n",
    "else:\n",
    "    subdir = \"/edit_post_output_0\"\n",
    "\n",
    "# Check num warmup and runs is correct\n",
    "warmup_count = 100\n",
    "runs_count = 1000"
   ]
  },
  {
   "cell_type": "code",
   "execution_count": 3,
   "id": "08f380aa-0ef4-4003-84cf-ad1028f76e3b",
   "metadata": {},
   "outputs": [],
   "source": [
    "if pass_bmark:\n",
    "    enterapp = \"enter update\"\n",
    "else:\n",
    "    enterapp = \"enter edit\"\n",
    "entertank = \"enter TANK\"\n",
    "exittank = \"exit TANK\"\n",
    "if pass_bmark:\n",
    "    exitapp = \"exit update\"\n",
    "    exitapp = \"exit edit\"\n",
    "\n",
    "def get_app_overheads(filename, num_warmup):\n",
    "    app_send_dur = []\n",
    "    app_recv_dur = []\n",
    "\n",
    "    with open(filename) as f:\n",
    "        tmp = 0\n",
    "        ctr = 0\n",
    "        while (line := f.readline()):\n",
    "            # every four lines is a new run\n",
    "            ctr += 1\n",
    "            if ctr <= num_warmup:\n",
    "                continue\n",
    "            if (match := re.search(\n",
    "                \"(([0-9]+), \\\"([a-z]+ [a-zA-Z]+)\\\", Instant { tv_sec: [0-9]+, tv_nsec: ([0-9]+) })\",\n",
    "                line\n",
    "            )): \n",
    "                run_ct = int(match.group(2))\n",
    "                level = match.group(3)\n",
    "                timestamp = int(match.group(4))\n",
    "\n",
    "                if level == enterapp:\n",
    "                    tmp = timestamp\n",
    "                elif level == entertank:\n",
    "                    dur = timestamp - tmp\n",
    "                    if dur < 0:\n",
    "                        dur += 1000000000\n",
    "                    app_send_dur.append(dur)\n",
    "                elif level == exittank:\n",
    "                    tmp = timestamp\n",
    "                else:\n",
    "                    dur = timestamp - tmp\n",
    "                    if dur < 0:\n",
    "                        dur += 1000000000\n",
    "                    app_recv_dur.append(dur)\n",
    "        print(\"ctr: \", ctr)\n",
    "        print(\"counted: \", ctr - num_warmup)\n",
    "\n",
    "    return app_send_dur, app_recv_dur"
   ]
  },
  {
   "cell_type": "code",
   "execution_count": 4,
   "id": "5303bff8-9814-4af0-b64a-cf2ed5e55d0b",
   "metadata": {},
   "outputs": [],
   "source": [
    "enterpovs = \"enter POVS\"\n",
    "entersymenc = \"enter SYMENC\"\n",
    "entersessenc = \"enter SESSENC\"\n",
    "exitcore = \"exit CORE\"\n",
    "\n",
    "def get_core_send_overheads(filename, num_core_send_warmup):\n",
    "    pov_send_dur = []\n",
    "    symenc_send_dur = []\n",
    "    sessenc_send_dur = []\n",
    "\n",
    "    with open(filename) as f:\n",
    "        tmp = 0\n",
    "        ctr = 0\n",
    "        pov_run = []\n",
    "        symenc_run = []\n",
    "        sessenc_run = []\n",
    "        while (line := f.readline()):\n",
    "            # every 4 lines is a new message\n",
    "            ctr += 1\n",
    "            if ctr <= num_core_send_warmup:\n",
    "                continue\n",
    "            if (match := re.search(\n",
    "                \"(([0-9]+), \\\"([a-z]+ [a-zA-Z]+)\\\", Instant { tv_sec: [0-9]+, tv_nsec: ([0-9]+) })\",\n",
    "                line\n",
    "            )):\n",
    "                run_ct = int(match.group(2))\n",
    "                level = match.group(3)\n",
    "                timestamp = int(match.group(4))\n",
    "\n",
    "                # every 8 lines is a new run\n",
    "                mod = ctr % 8\n",
    "                if mod == 0:\n",
    "                    # pov\n",
    "                    pov_dur = 0\n",
    "                    for part in pov_run:\n",
    "                        pov_dur += part\n",
    "                    pov_send_dur.append(pov_dur)\n",
    "                    pov_run = []\n",
    "                    # sym enc\n",
    "                    symenc_dur = 0\n",
    "                    for part in symenc_run:\n",
    "                        symenc_dur += part\n",
    "                    symenc_send_dur.append(symenc_dur)\n",
    "                    symenc_run = []\n",
    "                    # sess enc\n",
    "                    sessenc_dur = 0\n",
    "                    for part in sessenc_run:\n",
    "                        sessenc_dur += part\n",
    "                    sessenc_send_dur.append(sessenc_dur)\n",
    "                    sessenc_run = []\n",
    "\n",
    "                if level == enterpovs:\n",
    "                    tmp = timestamp\n",
    "                elif level == entersymenc:\n",
    "                    dur = timestamp - tmp\n",
    "                    if dur < 0:\n",
    "                        dur += 1000000000\n",
    "                    pov_run.append(dur)\n",
    "                    tmp = timestamp\n",
    "                elif level == entersessenc:\n",
    "                    dur = timestamp - tmp\n",
    "                    if dur < 0:\n",
    "                        dur += 1000000000\n",
    "                    symenc_run.append(dur)\n",
    "                    tmp = timestamp\n",
    "                else:\n",
    "                    dur = timestamp - tmp\n",
    "                    if dur < 0:\n",
    "                        dur += 1000000000\n",
    "                    sessenc_run.append(dur)\n",
    "        print(\"ctr: \", ctr)\n",
    "        print(\"counted: \", ctr - num_core_send_warmup)\n",
    "\n",
    "    return pov_send_dur, symenc_send_dur, sessenc_send_dur"
   ]
  },
  {
   "cell_type": "code",
   "execution_count": 5,
   "id": "52f36dd2-1e90-42c6-b722-8a1ebd26bae1",
   "metadata": {},
   "outputs": [],
   "source": [
    "entersessdec = \"enter SESSDECR\"\n",
    "entersymdec = \"enter SYMDECR\"\n",
    "exitdec = \"enter POVS\"\n",
    "exitcore = \"exit CORE\"\n",
    "\n",
    "def get_core_recv_overheads(filename, num_core_recv_warmup):\n",
    "    sessenc_recv_dur = []\n",
    "    symenc_recv_dur = []\n",
    "    pov_recv_dur = []\n",
    "\n",
    "    with open(filename) as f:\n",
    "        tmp = 0\n",
    "        ctr = 0\n",
    "        pov_run = []\n",
    "        sessenc_run = []\n",
    "        symenc_run = []\n",
    "        while (line := f.readline()):\n",
    "            # every 4 lines is a new message\n",
    "            ctr += 1\n",
    "            if ctr <= num_core_recv_warmup:\n",
    "                continue\n",
    "            if (match := re.search(\n",
    "                \"(([0-9]+), \\\"([a-z]+ [a-zA-Z]+)\\\", Instant { tv_sec: [0-9]+, tv_nsec: ([0-9]+) })\",\n",
    "                line\n",
    "            )):\n",
    "                run_ct = int(match.group(2))\n",
    "                level = match.group(3)\n",
    "                timestamp = int(match.group(4))\n",
    "\n",
    "                # every 8 lines is a new run\n",
    "                mod = ctr % 8\n",
    "                if mod == 0:\n",
    "                    # pov\n",
    "                    pov_dur = 0\n",
    "                    for part in pov_run:\n",
    "                        pov_dur += part\n",
    "                    pov_recv_dur.append(pov_dur)\n",
    "                    pov_run = []\n",
    "                    # sym enc\n",
    "                    symenc_dur = 0\n",
    "                    for part in symenc_run:\n",
    "                        symenc_dur += part\n",
    "                    symenc_recv_dur.append(symenc_dur)\n",
    "                    symenc_run = []\n",
    "                    # sess enc\n",
    "                    sessenc_dur = 0\n",
    "                    for part in sessenc_run:\n",
    "                        sessenc_dur += part\n",
    "                    sessenc_recv_dur.append(sessenc_dur)\n",
    "                    sessenc_run = []\n",
    "            \n",
    "                if level == entersessdec:\n",
    "                    tmp = timestamp\n",
    "                elif level == entersymdec:\n",
    "                    dur = timestamp - tmp\n",
    "                    if dur < 0:\n",
    "                        dur += 1000000000\n",
    "                    sessenc_run.append(dur)\n",
    "                    tmp = timestamp\n",
    "                elif level == exitdec:\n",
    "                    dur = timestamp - tmp\n",
    "                    if dur < 0:\n",
    "                        dur += 1000000000\n",
    "                    symenc_run.append(dur)\n",
    "                    tmp = timestamp\n",
    "                else:\n",
    "                    dur = timestamp - tmp\n",
    "                    if dur < 0:\n",
    "                        dur += 1000000000\n",
    "                    pov_run.append(dur)\n",
    "        print(\"ctr: \", ctr)\n",
    "        print(\"counted: \", ctr - num_core_recv_warmup)\n",
    "\n",
    "    return sessenc_recv_dur, symenc_recv_dur, pov_recv_dur"
   ]
  },
  {
   "cell_type": "code",
   "execution_count": 6,
   "id": "1f09bbbd-49bb-41a7-86c6-8d0326e9d391",
   "metadata": {},
   "outputs": [],
   "source": [
    "enter_send_tank = \"enter sendTANK\"\n",
    "entercore = \"enter CORE\"\n",
    "exitcore = \"exit CORE\"\n",
    "exit_last_core = \"exit LASTCORE\"\n",
    "exit_send_tank = \"exit sendTANK\"\n",
    "\n",
    "def get_tank_send_overheads(filename, num_tank_send_warmup):\n",
    "    tank_send_dur = []\n",
    "    with open(filename) as f:\n",
    "        tmp = 0\n",
    "        ctr = 0\n",
    "        run = []\n",
    "        while (line := f.readline()):\n",
    "            ctr += 1\n",
    "            if ctr <= num_tank_send_warmup:\n",
    "                continue\n",
    "            if (match := re.search(\n",
    "                \"(([0-9]+), \\\"([a-z]+ [a-zA-Z]+)\\\", Instant { tv_sec: [0-9]+, tv_nsec: ([0-9]+) })\",\n",
    "                line\n",
    "            )):\n",
    "                run_ct = int(match.group(2))\n",
    "                level = match.group(3)\n",
    "                timestamp = int(match.group(4))\n",
    "\n",
    "                # every 6 lines is a new run\n",
    "                mod = ctr % 6\n",
    "                if mod == 0:\n",
    "                    dur = 0\n",
    "                    for part in run:\n",
    "                        dur += part\n",
    "                    tank_send_dur.append(dur)\n",
    "                    run = []\n",
    "\n",
    "                if level == enter_send_tank:\n",
    "                    tmp = timestamp\n",
    "                elif level == entercore:\n",
    "                    dur = timestamp - tmp\n",
    "                    if dur < 0:\n",
    "                        dur += 1000000000\n",
    "                    run.append(dur)\n",
    "                elif level == exitcore:\n",
    "                    tmp = timestamp\n",
    "                elif level == exit_last_core:\n",
    "                    tmp = timestamp\n",
    "                else:\n",
    "                    dur = timestamp - tmp\n",
    "                    if dur < 0:\n",
    "                        dur += 1000000000\n",
    "                    run.append(dur)\n",
    "        print(\"ctr: \", ctr)\n",
    "        print(\"counted: \", ctr - num_tank_send_warmup)\n",
    "\n",
    "    return tank_send_dur"
   ]
  },
  {
   "cell_type": "code",
   "execution_count": 7,
   "id": "7bc44505-b463-4ac4-9195-4c7a760e0773",
   "metadata": {},
   "outputs": [],
   "source": [
    "enter_recv_tank = \"enter recvTANK\"\n",
    "exit_recv_tank = \"exit recvTANK\"\n",
    "\n",
    "def get_tank_recv_overheads(filename_update, filename_dummy, num_tank_recv_warmup):\n",
    "    tank_recv_dur_update = []\n",
    "    with open(filename_update) as f:\n",
    "        tmp = 0\n",
    "        ctr = 0\n",
    "        while (line := f.readline()):\n",
    "            ctr += 1\n",
    "            if ctr <= num_tank_recv_warmup:\n",
    "                continue\n",
    "            if (match := re.search(\n",
    "                \"(([0-9]+), \\\"([a-z]+ [a-zA-Z]+)\\\", Instant { tv_sec: [0-9]+, tv_nsec: ([0-9]+) })\",\n",
    "                line\n",
    "            )):\n",
    "                run_ct = int(match.group(2))\n",
    "                level = match.group(3)\n",
    "                timestamp = int(match.group(4))\n",
    "\n",
    "                if level == enter_recv_tank:\n",
    "                    tmp = timestamp\n",
    "                else:\n",
    "                    dur = timestamp - tmp;\n",
    "                    if dur < 0:\n",
    "                        dur += 1000000000\n",
    "                    tank_recv_dur_update.append(dur)\n",
    "\n",
    "    tank_recv_dur_dummy = []\n",
    "    with open(filename_dummy) as f:\n",
    "        tmp = 0\n",
    "        ctr = 0\n",
    "        while (line := f.readline()):\n",
    "            ctr += 1\n",
    "            if ctr <= num_tank_recv_warmup:\n",
    "                continue\n",
    "            if (match := re.search(\n",
    "                \"(([0-9]+), \\\"([a-z]+ [a-zA-Z]+)\\\", Instant { tv_sec: [0-9]+, tv_nsec: ([0-9]+) })\",\n",
    "                line\n",
    "            )):\n",
    "                run_ct = int(match.group(2))\n",
    "                level = match.group(3)\n",
    "                timestamp = int(match.group(4))\n",
    "                \n",
    "                if level == enter_recv_tank:\n",
    "                    tmp = timestamp\n",
    "                else:\n",
    "                    dur = timestamp - tmp;\n",
    "                    if dur < 0:\n",
    "                        dur += 1000000000\n",
    "                    tank_recv_dur_dummy.append(dur)\n",
    "\n",
    "    print(len(tank_recv_dur_update))\n",
    "    print(len(tank_recv_dur_dummy))\n",
    "\n",
    "    sum_tank_recv_dur = []\n",
    "    for (update_dur, dummy_dur) in zip(tank_recv_dur_update, tank_recv_dur_dummy):\n",
    "        sum_tank_recv_dur.append(update_dur + dummy_dur)\n",
    "\n",
    "    return sum_tank_recv_dur"
   ]
  },
  {
   "cell_type": "code",
   "execution_count": 8,
   "id": "9ad017ec-4a41-4ea5-ab3e-8d1ab4f8c323",
   "metadata": {},
   "outputs": [],
   "source": [
    "def app_filename(num_clients, num_runs):\n",
    "    return \".{}/{}c_{}r_ts_app.txt\".format(subdir, num_clients, num_runs)\n",
    "\n",
    "def tank_send_filename(num_clients, num_runs):\n",
    "    return \".{}/{}c_{}r_ts_tank_send.txt\".format(subdir, num_clients, num_runs)\n",
    "\n",
    "def tank_recv_filename_update(num_clients, num_runs):\n",
    "    return \".{}/{}c_{}r_ts_tank_recv_update.txt\".format(subdir, num_clients, num_runs)\n",
    "\n",
    "def tank_recv_filename_dummy(num_clients, num_runs):\n",
    "    return \".{}/{}c_{}r_ts_tank_recv_dummy.txt\".format(subdir, num_clients, num_runs)\n",
    "\n",
    "def core_send_filename(num_clients, num_runs):\n",
    "    return \".{}/{}c_{}r_ts_core_send.txt\".format(subdir, num_clients, num_runs)\n",
    "\n",
    "def core_recv_filename(num_clients, num_runs):\n",
    "    return \".{}/{}c_{}r_ts_core_recv.txt\".format(subdir, num_clients, num_runs)\n"
   ]
  },
  {
   "cell_type": "code",
   "execution_count": 9,
   "id": "048d0971-e817-4d02-9e5a-99a604b17522",
   "metadata": {},
   "outputs": [
    {
     "name": "stdout",
     "output_type": "stream",
     "text": [
      "ctr:  4400\n",
      "counted:  4000\n",
      "ctr:  6600\n",
      "counted:  6000\n",
      "1000\n",
      "1000\n",
      "ctr:  8800\n",
      "counted:  8000\n",
      "ctr:  8800\n",
      "counted:  8000\n"
     ]
    }
   ],
   "source": [
    "clients_count = 4\n",
    "\n",
    "app_send_dur_0, app_recv_dur_0 = get_app_overheads(app_filename(clients_count, runs_count), 4 * warmup_count)\n",
    "tank_send_dur_0 = get_tank_send_overheads(tank_send_filename(clients_count, runs_count), 6 * warmup_count)\n",
    "tank_recv_dur_0 = get_tank_recv_overheads(tank_recv_filename_update(clients_count, runs_count), tank_recv_filename_dummy(clients_count, runs_count), 2 * warmup_count)\n",
    "pov_send_dur_0, symenc_send_dur_0, sessenc_send_dur_0 = get_core_send_overheads(core_send_filename(clients_count, runs_count), 4 * 2 * warmup_count)\n",
    "sessenc_recv_dur_0, symenc_recv_dur_0, pov_recv_dur_0 = get_core_recv_overheads(core_recv_filename(clients_count, runs_count), 4 * 2 * warmup_count)"
   ]
  },
  {
   "cell_type": "code",
   "execution_count": 10,
   "id": "24a775da-4b8d-40b5-9211-ea8736e7aec2",
   "metadata": {},
   "outputs": [
    {
     "name": "stdout",
     "output_type": "stream",
     "text": [
      "638755.695\n",
      "4188583.693\n",
      "102934.172\n",
      "41478.366\n",
      "22562.928\n"
     ]
    }
   ],
   "source": [
    "print(mean(symenc_send_dur_0))\n",
    "print(mean(sessenc_send_dur_0))\n",
    "print(mean(pov_send_dur_0))\n",
    "print(mean(tank_send_dur_0))\n",
    "print(mean(app_send_dur_0))"
   ]
  },
  {
   "cell_type": "code",
   "execution_count": 11,
   "id": "a4eed97b-a95d-4811-8bc8-35d4365573e9",
   "metadata": {},
   "outputs": [
    {
     "data": {
      "text/plain": [
       "<function matplotlib.pyplot.show(close=None, block=None)>"
      ]
     },
     "execution_count": 11,
     "metadata": {},
     "output_type": "execute_result"
    },
    {
     "data": {
      "image/png": "[encoded data removed]",
      "text/plain": [
       "<Figure size 640x480 with 1 Axes>"
      ]
     },
     "metadata": {},
     "output_type": "display_data"
    }
   ],
   "source": [
    "df = pd.DataFrame([\n",
    "    [\"3clients\", mean(symenc_send_dur_0), mean(sessenc_send_dur_0), mean(pov_send_dur_0), mean(tank_send_dur_0), mean(app_send_dur_0)],\n",
    "], columns=[\"update_pass\", \"Sym-Enc\", \"Sess-Enc\", \"POVS\", \"TANK\", \"App logic\"])\n",
    "df.plot(x='update_pass', kind='bar', stacked=True, title='Send overheads')\n",
    "plt.show"
   ]
  },
  {
   "cell_type": "code",
   "execution_count": 12,
   "id": "d8bb5426-f751-48b4-9556-c9887c5d259e",
   "metadata": {},
   "outputs": [
    {
     "data": {
      "text/plain": [
       "<function matplotlib.pyplot.show(close=None, block=None)>"
      ]
     },
     "execution_count": 12,
     "metadata": {},
     "output_type": "execute_result"
    },
    {
     "data": {
      "image/png": "[encoded data removed]",
      "text/plain": [
       "<Figure size 640x480 with 1 Axes>"
      ]
     },
     "metadata": {},
     "output_type": "display_data"
    }
   ],
   "source": [
    "df = pd.DataFrame([\n",
    "    [\"3clients\", mean(sessenc_recv_dur_0), mean(symenc_recv_dur_0), mean(pov_recv_dur_0), mean(tank_recv_dur_0), mean(app_recv_dur_0)],\n",
    "], columns=[\"update_pass\", \"Sess-Enc\", \"Sym-Enc\", \"POVS\", \"TANK\", \"App logic\"])\n",
    "df.plot(x='update_pass', kind='bar', stacked=True, title='Receive overheads')\n",
    "plt.show"
   ]
  },
  {
   "cell_type": "code",
   "execution_count": 13,
   "id": "002ee8c7-fff6-4b7e-bbe3-6e9a82f8c93c",
   "metadata": {},
   "outputs": [
    {
     "name": "stdout",
     "output_type": "stream",
     "text": [
      "ctr:  4400\n",
      "counted:  4000\n",
      "ctr:  6600\n",
      "counted:  6000\n",
      "1000\n",
      "1000\n",
      "ctr:  8800\n",
      "counted:  8000\n",
      "ctr:  8800\n",
      "counted:  8000\n"
     ]
    }
   ],
   "source": [
    "clients_count = 1\n",
    "\n",
    "app_send_dur_0, app_recv_dur_0 = get_app_overheads(app_filename(clients_count, runs_count), 4 * warmup_count)\n",
    "tank_send_dur_0 = get_tank_send_overheads(tank_send_filename(clients_count, runs_count), 6 * warmup_count)\n",
    "tank_recv_dur_0 = get_tank_recv_overheads(tank_recv_filename_update(clients_count, runs_count), tank_recv_filename_dummy(clients_count, runs_count), 2 * warmup_count)\n",
    "pov_send_dur_0, symenc_send_dur_0, sessenc_send_dur_0 = get_core_send_overheads(core_send_filename(clients_count, runs_count), 4 * 2 * warmup_count)\n",
    "sessenc_recv_dur_0, symenc_recv_dur_0, pov_recv_dur_0 = get_core_recv_overheads(core_recv_filename(clients_count, runs_count), 4 * 2 * warmup_count)"
   ]
  },
  {
   "cell_type": "code",
   "execution_count": 14,
   "id": "62991b71-14c8-46ed-8373-1f859fce6828",
   "metadata": {},
   "outputs": [
    {
     "name": "stdout",
     "output_type": "stream",
     "text": [
      "ctr:  4400\n",
      "counted:  4000\n",
      "ctr:  6600\n",
      "counted:  6000\n",
      "1000\n",
      "1000\n",
      "ctr:  8800\n",
      "counted:  8000\n",
      "ctr:  8800\n",
      "counted:  8000\n"
     ]
    }
   ],
   "source": [
    "clients_count = 2\n",
    "\n",
    "app_send_dur_1, app_recv_dur_1 = get_app_overheads(app_filename(clients_count, runs_count), 4 * warmup_count)\n",
    "tank_send_dur_1 = get_tank_send_overheads(tank_send_filename(clients_count, runs_count), 6 * warmup_count)\n",
    "tank_recv_dur_1 = get_tank_recv_overheads(tank_recv_filename_update(clients_count, runs_count), tank_recv_filename_dummy(clients_count, runs_count), 2 * warmup_count)\n",
    "pov_send_dur_1, symenc_send_dur_1, sessenc_send_dur_1 = get_core_send_overheads(core_send_filename(clients_count, runs_count), 4 * 2 * warmup_count)\n",
    "sessenc_recv_dur_1, symenc_recv_dur_1, pov_recv_dur_1 = get_core_recv_overheads(core_recv_filename(clients_count, runs_count), 4 * 2 * warmup_count)"
   ]
  },
  {
   "cell_type": "code",
   "execution_count": 15,
   "id": "48ad385b-19ec-47cc-a3c0-aaaecadce5f1",
   "metadata": {},
   "outputs": [
    {
     "name": "stdout",
     "output_type": "stream",
     "text": [
      "ctr:  4400\n",
      "counted:  4000\n",
      "ctr:  6600\n",
      "counted:  6000\n",
      "1000\n",
      "1000\n",
      "ctr:  8800\n",
      "counted:  8000\n",
      "ctr:  8800\n",
      "counted:  8000\n"
     ]
    }
   ],
   "source": [
    "clients_count = 4\n",
    "\n",
    "app_send_dur_2, app_recv_dur_2 = get_app_overheads(app_filename(clients_count, runs_count), 4 * warmup_count)\n",
    "tank_send_dur_2 = get_tank_send_overheads(tank_send_filename(clients_count, runs_count), 6 * warmup_count)\n",
    "tank_recv_dur_2 = get_tank_recv_overheads(tank_recv_filename_update(clients_count, runs_count), tank_recv_filename_dummy(clients_count, runs_count), 2 * warmup_count)\n",
    "pov_send_dur_2, symenc_send_dur_2, sessenc_send_dur_2 = get_core_send_overheads(core_send_filename(clients_count, runs_count), 4 * 2 * warmup_count)\n",
    "sessenc_recv_dur_2, symenc_recv_dur_2, pov_recv_dur_2 = get_core_recv_overheads(core_recv_filename(clients_count, runs_count), 4 * 2 * warmup_count)"
   ]
  },
  {
   "cell_type": "code",
   "execution_count": 16,
   "id": "4638ac68-303d-4c6b-9e0d-55106be3fac7",
   "metadata": {},
   "outputs": [
    {
     "name": "stdout",
     "output_type": "stream",
     "text": [
      "ctr:  4400\n",
      "counted:  4000\n",
      "ctr:  6600\n",
      "counted:  6000\n",
      "1000\n",
      "1000\n",
      "ctr:  8800\n",
      "counted:  8000\n",
      "ctr:  8800\n",
      "counted:  8000\n"
     ]
    }
   ],
   "source": [
    "clients_count = 8\n",
    "\n",
    "app_send_dur_4, app_recv_dur_4 = get_app_overheads(app_filename(clients_count, runs_count), 4 * warmup_count)\n",
    "tank_send_dur_4 = get_tank_send_overheads(tank_send_filename(clients_count, runs_count), 6 * warmup_count)\n",
    "tank_recv_dur_4 = get_tank_recv_overheads(tank_recv_filename_update(clients_count, runs_count), tank_recv_filename_dummy(clients_count, runs_count), 2 * warmup_count)\n",
    "pov_send_dur_4, symenc_send_dur_4, sessenc_send_dur_4 = get_core_send_overheads(core_send_filename(clients_count, runs_count), 4 * 2 * warmup_count)\n",
    "sessenc_recv_dur_4, symenc_recv_dur_4, pov_recv_dur_4 = get_core_recv_overheads(core_recv_filename(clients_count, runs_count), 4 * 2 * warmup_count)"
   ]
  },
  {
   "cell_type": "code",
   "execution_count": 17,
   "id": "3cfc79a6-8e68-492a-9158-b7d53df7ce24",
   "metadata": {},
   "outputs": [
    {
     "name": "stdout",
     "output_type": "stream",
     "text": [
      "ctr:  4400\n",
      "counted:  4000\n",
      "ctr:  6600\n",
      "counted:  6000\n",
      "1000\n",
      "1000\n",
      "ctr:  8800\n",
      "counted:  8000\n",
      "ctr:  8800\n",
      "counted:  8000\n"
     ]
    }
   ],
   "source": [
    "clients_count = 16\n",
    "\n",
    "app_send_dur_5, app_recv_dur_5 = get_app_overheads(app_filename(clients_count, runs_count), 4 * warmup_count)\n",
    "tank_send_dur_5 = get_tank_send_overheads(tank_send_filename(clients_count, runs_count), 6 * warmup_count)\n",
    "tank_recv_dur_5 = get_tank_recv_overheads(tank_recv_filename_update(clients_count, runs_count), tank_recv_filename_dummy(clients_count, runs_count), 2 * warmup_count)\n",
    "pov_send_dur_5, symenc_send_dur_5, sessenc_send_dur_5 = get_core_send_overheads(core_send_filename(clients_count, runs_count), 4 * 2 * warmup_count)\n",
    "sessenc_recv_dur_5, symenc_recv_dur_5, pov_recv_dur_5 = get_core_recv_overheads(core_recv_filename(clients_count, runs_count), 4 * 2 * warmup_count)"
   ]
  },
  {
   "cell_type": "code",
   "execution_count": 18,
   "id": "0852342a-3fb2-4f0c-9775-baaf22a520aa",
   "metadata": {},
   "outputs": [
    {
     "name": "stdout",
     "output_type": "stream",
     "text": [
      "ctr:  4400\n",
      "counted:  4000\n",
      "ctr:  6600\n",
      "counted:  6000\n",
      "1000\n",
      "1000\n",
      "ctr:  8800\n",
      "counted:  8000\n",
      "ctr:  8800\n",
      "counted:  8000\n"
     ]
    }
   ],
   "source": [
    "clients_count = 32\n",
    "\n",
    "app_send_dur_6, app_recv_dur_6 = get_app_overheads(app_filename(clients_count, runs_count), 4 * warmup_count)\n",
    "tank_send_dur_6 = get_tank_send_overheads(tank_send_filename(clients_count, runs_count), 6 * warmup_count)\n",
    "tank_recv_dur_6 = get_tank_recv_overheads(tank_recv_filename_update(clients_count, runs_count), tank_recv_filename_dummy(clients_count, runs_count), 2 * warmup_count)\n",
    "pov_send_dur_6, symenc_send_dur_6, sessenc_send_dur_6 = get_core_send_overheads(core_send_filename(clients_count, runs_count), 4 * 2 * warmup_count)\n",
    "sessenc_recv_dur_6, symenc_recv_dur_6, pov_recv_dur_6 = get_core_recv_overheads(core_recv_filename(clients_count, runs_count), 4 * 2 * warmup_count)"
   ]
  },
  {
   "cell_type": "code",
   "execution_count": 19,
   "id": "7cc220e8-0d4d-4e1e-b22c-a8c217411189",
   "metadata": {},
   "outputs": [
    {
     "data": {
      "text/plain": [
       "27012.186960999996"
      ]
     },
     "execution_count": 19,
     "metadata": {},
     "output_type": "execute_result"
    }
   ],
   "source": [
    "ratio = 1000\n",
    "\n",
    "symencsend_ms_0 = mean(symenc_send_dur_0) / ratio\n",
    "symencsend_ms_1 = mean(symenc_send_dur_1) / ratio\n",
    "symencsend_ms_2 = mean(symenc_send_dur_2) / ratio\n",
    "symencsend_ms_4 = mean(symenc_send_dur_4) / ratio\n",
    "symencsend_ms_5 = mean(symenc_send_dur_5) / ratio\n",
    "symencsend_ms_6 = mean(symenc_send_dur_6) / ratio\n",
    "\n",
    "encsend_ms_0 = mean(sessenc_send_dur_0) / ratio\n",
    "encsend_ms_1 = mean(sessenc_send_dur_1) / ratio\n",
    "encsend_ms_2 = mean(sessenc_send_dur_2) / ratio\n",
    "encsend_ms_4 = mean(sessenc_send_dur_4) / ratio\n",
    "encsend_ms_5 = mean(sessenc_send_dur_5) / ratio\n",
    "encsend_ms_6 = mean(sessenc_send_dur_6) / ratio\n",
    "\n",
    "povsend_ms_0 = mean(pov_send_dur_0) / ratio\n",
    "povsend_ms_1 = mean(pov_send_dur_1) / ratio\n",
    "povsend_ms_2 = mean(pov_send_dur_2) / ratio\n",
    "povsend_ms_4 = mean(pov_send_dur_4) / ratio\n",
    "povsend_ms_5 = mean(pov_send_dur_5) / ratio\n",
    "povsend_ms_6 = mean(pov_send_dur_6) / ratio\n",
    "\n",
    "tanksend_ms_0 = mean(tank_send_dur_0) / ratio\n",
    "tanksend_ms_1 = mean(tank_send_dur_1) / ratio\n",
    "tanksend_ms_2 = mean(tank_send_dur_2) / ratio\n",
    "tanksend_ms_4 = mean(tank_send_dur_4) / ratio\n",
    "tanksend_ms_5 = mean(tank_send_dur_5) / ratio\n",
    "tanksend_ms_6 = mean(tank_send_dur_6) / ratio\n",
    "\n",
    "appsend_ms_0 = mean(app_send_dur_0) / ratio\n",
    "appsend_ms_1 = mean(app_send_dur_1) / ratio\n",
    "appsend_ms_2 = mean(app_send_dur_2) / ratio\n",
    "appsend_ms_4 = mean(app_send_dur_4) / ratio\n",
    "appsend_ms_5 = mean(app_send_dur_5) / ratio\n",
    "appsend_ms_6 = mean(app_send_dur_6) / ratio\n",
    "\n",
    "sum0 = symencsend_ms_0 + encsend_ms_0 + povsend_ms_0 + tanksend_ms_0 + appsend_ms_0\n",
    "sum1 = symencsend_ms_1 + encsend_ms_1 + povsend_ms_1 + tanksend_ms_1 + appsend_ms_1\n",
    "sum2 = symencsend_ms_2 + encsend_ms_2 + povsend_ms_2 + tanksend_ms_2 + appsend_ms_2\n",
    "sum4 = symencsend_ms_4 + encsend_ms_4 + povsend_ms_4 + tanksend_ms_4 + appsend_ms_4\n",
    "sum5 = symencsend_ms_5 + encsend_ms_5 + povsend_ms_5 + tanksend_ms_5 + appsend_ms_5\n",
    "sum6 = symencsend_ms_6 + encsend_ms_6 + povsend_ms_6 + tanksend_ms_6 + appsend_ms_6\n",
    "\n",
    "max_send = max(sum0, sum1, sum2, sum4, sum5, sum6)\n",
    "max_send"
   ]
  },
  {
   "cell_type": "code",
   "execution_count": 20,
   "id": "2317600d-5bb1-4fa0-9c36-0909b0812207",
   "metadata": {},
   "outputs": [],
   "source": [
    "# TODO create parsed_results dir w index corresponding to raw data"
   ]
  },
  {
   "cell_type": "code",
   "execution_count": 21,
   "id": "98189f5d-3d00-43df-bb04-9bde23111f0d",
   "metadata": {},
   "outputs": [],
   "source": [
    "if pass_bmark:\n",
    "    f = open(\"send_means_update_pass.txt\", \"a\")\n",
    "else:\n",
    "    f = open(\"send_means_edit_post.txt\", \"a\")\n",
    "\n",
    "f.write(\"Label\\tsymenc\\tsessenc\\tpov\\ttank\\tapp\\n\")\n",
    "f.write(\"{}\\t{}\\t{}\\t{}\\t{}\\t{}\\n\".format(1, symencsend_ms_0, encsend_ms_0, povsend_ms_0, tanksend_ms_0, appsend_ms_0))\n",
    "f.write(\"{}\\t{}\\t{}\\t{}\\t{}\\t{}\\n\".format(2, symencsend_ms_1, encsend_ms_1, povsend_ms_1, tanksend_ms_1, appsend_ms_1))\n",
    "f.write(\"{}\\t{}\\t{}\\t{}\\t{}\\t{}\\n\".format(4, symencsend_ms_2, encsend_ms_2, povsend_ms_2, tanksend_ms_2, appsend_ms_2))\n",
    "f.write(\"{}\\t{}\\t{}\\t{}\\t{}\\t{}\\n\".format(8, symencsend_ms_4, encsend_ms_4, povsend_ms_4, tanksend_ms_4, appsend_ms_4))\n",
    "f.write(\"{}\\t{}\\t{}\\t{}\\t{}\\t{}\\n\".format(16, symencsend_ms_5, encsend_ms_5, povsend_ms_5, tanksend_ms_5, appsend_ms_5))\n",
    "f.write(\"{}\\t{}\\t{}\\t{}\\t{}\\t{}\\n\".format(32, symencsend_ms_6, encsend_ms_6, povsend_ms_6, tanksend_ms_6, appsend_ms_6))\n",
    "f.close()"
   ]
  },
  {
   "cell_type": "code",
   "execution_count": 22,
   "id": "0733f3cb-d144-4aa9-a50f-9730d52ed1a1",
   "metadata": {},
   "outputs": [
    {
     "data": {
      "text/plain": [
       "5281.270151"
      ]
     },
     "execution_count": 22,
     "metadata": {},
     "output_type": "execute_result"
    }
   ],
   "source": [
    "# lefthand variable names say \"send\" but they really correspond to \"recv\" I just didn't want to rewrite all the var names (easier to copy/paste)\n",
    "# FIXME putting all this data in a data structure without var names would be great...\n",
    "\n",
    "encsend_ms_0 = mean(sessenc_recv_dur_0) / ratio\n",
    "encsend_ms_1 = mean(sessenc_recv_dur_1) / ratio\n",
    "encsend_ms_2 = mean(sessenc_recv_dur_2) / ratio\n",
    "encsend_ms_4 = mean(sessenc_recv_dur_4) / ratio\n",
    "encsend_ms_5 = mean(sessenc_recv_dur_5) / ratio\n",
    "encsend_ms_6 = mean(sessenc_recv_dur_6) / ratio\n",
    "\n",
    "symencsend_ms_0 = mean(symenc_recv_dur_0) / ratio\n",
    "symencsend_ms_1 = mean(symenc_recv_dur_1) / ratio\n",
    "symencsend_ms_2 = mean(symenc_recv_dur_2) / ratio\n",
    "symencsend_ms_4 = mean(symenc_recv_dur_4) / ratio\n",
    "symencsend_ms_5 = mean(symenc_recv_dur_5) / ratio\n",
    "symencsend_ms_6 = mean(symenc_recv_dur_6) / ratio\n",
    "\n",
    "povsend_ms_0 = mean(pov_recv_dur_0) / ratio\n",
    "povsend_ms_1 = mean(pov_recv_dur_1) / ratio\n",
    "povsend_ms_2 = mean(pov_recv_dur_2) / ratio\n",
    "povsend_ms_4 = mean(pov_recv_dur_4) / ratio\n",
    "povsend_ms_5 = mean(pov_recv_dur_5) / ratio\n",
    "povsend_ms_6 = mean(pov_recv_dur_6) / ratio\n",
    "\n",
    "tanksend_ms_0 = mean(tank_recv_dur_0) / ratio\n",
    "tanksend_ms_1 = mean(tank_recv_dur_1) / ratio\n",
    "tanksend_ms_2 = mean(tank_recv_dur_2) / ratio\n",
    "tanksend_ms_4 = mean(tank_recv_dur_4) / ratio\n",
    "tanksend_ms_5 = mean(tank_recv_dur_5) / ratio\n",
    "tanksend_ms_6 = mean(tank_recv_dur_6) / ratio\n",
    "\n",
    "appsend_ms_0 = mean(app_recv_dur_0) / ratio\n",
    "appsend_ms_1 = mean(app_recv_dur_1) / ratio\n",
    "appsend_ms_2 = mean(app_recv_dur_2) / ratio\n",
    "appsend_ms_4 = mean(app_recv_dur_4) / ratio\n",
    "appsend_ms_5 = mean(app_recv_dur_5) / ratio\n",
    "appsend_ms_6 = mean(app_recv_dur_6) / ratio\n",
    "\n",
    "sum0 = symencsend_ms_0 + encsend_ms_0 + povsend_ms_0 + tanksend_ms_0 + appsend_ms_0\n",
    "sum1 = symencsend_ms_1 + encsend_ms_1 + povsend_ms_1 + tanksend_ms_1 + appsend_ms_1\n",
    "sum2 = symencsend_ms_2 + encsend_ms_2 + povsend_ms_2 + tanksend_ms_2 + appsend_ms_2\n",
    "sum4 = symencsend_ms_4 + encsend_ms_4 + povsend_ms_4 + tanksend_ms_4 + appsend_ms_4\n",
    "sum5 = symencsend_ms_5 + encsend_ms_5 + povsend_ms_5 + tanksend_ms_5 + appsend_ms_5\n",
    "sum6 = symencsend_ms_6 + encsend_ms_6 + povsend_ms_6 + tanksend_ms_6 + appsend_ms_6\n",
    "\n",
    "max_send = max(sum0, sum1, sum2, sum4, sum5, sum6)\n",
    "max_send"
   ]
  },
  {
   "cell_type": "code",
   "execution_count": 23,
   "id": "a58824d8-7ac8-455c-adf9-7283261115fe",
   "metadata": {},
   "outputs": [],
   "source": [
    "if pass_bmark:\n",
    "    f = open(\"recv_means_update_pass.txt\", \"a\")\n",
    "else:\n",
    "    f = open(\"recv_means_edit_post.txt\", \"a\")\n",
    "\n",
    "f.write(\"Label\\tsymenc\\tsessenc\\tpov\\ttank\\tapp\\n\")\n",
    "f.write(\"{}\\t{}\\t{}\\t{}\\t{}\\t{}\\n\".format(1, symencsend_ms_0, encsend_ms_0, povsend_ms_0, tanksend_ms_0, appsend_ms_0))\n",
    "f.write(\"{}\\t{}\\t{}\\t{}\\t{}\\t{}\\n\".format(2, symencsend_ms_1, encsend_ms_1, povsend_ms_1, tanksend_ms_1, appsend_ms_1))\n",
    "f.write(\"{}\\t{}\\t{}\\t{}\\t{}\\t{}\\n\".format(4, symencsend_ms_2, encsend_ms_2, povsend_ms_2, tanksend_ms_2, appsend_ms_2))\n",
    "f.write(\"{}\\t{}\\t{}\\t{}\\t{}\\t{}\\n\".format(8, symencsend_ms_4, encsend_ms_4, povsend_ms_4, tanksend_ms_4, appsend_ms_4))\n",
    "f.write(\"{}\\t{}\\t{}\\t{}\\t{}\\t{}\\n\".format(16, symencsend_ms_5, encsend_ms_5, povsend_ms_5, tanksend_ms_5, appsend_ms_5))\n",
    "f.write(\"{}\\t{}\\t{}\\t{}\\t{}\\t{}\\n\".format(32, symencsend_ms_6, encsend_ms_6, povsend_ms_6, tanksend_ms_6, appsend_ms_6))\n",
    "f.close()"
   ]
  },
  {
   "cell_type": "code",
   "execution_count": 24,
   "id": "560620d2-4ac0-4108-b514-9d4ffe076541",
   "metadata": {},
   "outputs": [
    {
     "data": {
      "text/plain": [
       "<function matplotlib.pyplot.show(close=None, block=None)>"
      ]
     },
     "execution_count": 24,
     "metadata": {},
     "output_type": "execute_result"
    },
    {
     "data": {
      "image/png": "[encoded data removed]",
      "text/plain": [
       "<Figure size 640x480 with 1 Axes>"
      ]
     },
     "metadata": {},
     "output_type": "display_data"
    }
   ],
   "source": [
    "df = pd.DataFrame([\n",
    "    [\"1clients\", mean(symenc_send_dur_0), mean(sessenc_send_dur_0), mean(pov_send_dur_0), mean(tank_send_dur_0), mean(app_send_dur_0)],\n",
    "    [\"2clients\", mean(symenc_send_dur_1), mean(sessenc_send_dur_1), mean(pov_send_dur_1), mean(tank_send_dur_1), mean(app_send_dur_1)],\n",
    "    [\"4clients\", mean(symenc_send_dur_2), mean(sessenc_send_dur_2), mean(pov_send_dur_2), mean(tank_send_dur_2), mean(app_send_dur_2)],\n",
    "    [\"8clients\", mean(symenc_send_dur_4), mean(sessenc_send_dur_4), mean(pov_send_dur_4), mean(tank_send_dur_4), mean(app_send_dur_4)],\n",
    "    [\"16clients\", mean(symenc_send_dur_5), mean(sessenc_send_dur_5), mean(pov_send_dur_5), mean(tank_send_dur_5), mean(app_send_dur_5)],\n",
    "    [\"32clients\", mean(symenc_send_dur_6), mean(sessenc_send_dur_6), mean(pov_send_dur_6), mean(tank_send_dur_6), mean(app_send_dur_6)],\n",
    "], columns=[\"op\", \"Sym-Enc\", \"Sess-Enc\", \"POVS\", \"TANK\", \"App logic\"])\n",
    "df.plot(x='op', kind='bar', stacked=True, title='Send overheads')\n",
    "plt.show"
   ]
  },
  {
   "cell_type": "code",
   "execution_count": 25,
   "id": "a83c87c0-4c42-484e-b91f-205fc0d3ebd5",
   "metadata": {},
   "outputs": [
    {
     "data": {
      "text/plain": [
       "<function matplotlib.pyplot.show(close=None, block=None)>"
      ]
     },
     "execution_count": 25,
     "metadata": {},
     "output_type": "execute_result"
    },
    {
     "data": {
      "image/png": "[encoded data removed]",
      "text/plain": [
       "<Figure size 640x480 with 1 Axes>"
      ]
     },
     "metadata": {},
     "output_type": "display_data"
    }
   ],
   "source": [
    "df = pd.DataFrame([\n",
    "    [\"1clients\", mean(symenc_recv_dur_0), mean(sessenc_recv_dur_0), mean(pov_recv_dur_0), mean(tank_recv_dur_0), mean(app_recv_dur_0)],\n",
    "    [\"2clients\", mean(symenc_recv_dur_1), mean(sessenc_recv_dur_1), mean(pov_recv_dur_1), mean(tank_recv_dur_1), mean(app_recv_dur_1)],\n",
    "    [\"4clients\", mean(symenc_recv_dur_2), mean(sessenc_recv_dur_2), mean(pov_recv_dur_2), mean(tank_recv_dur_2), mean(app_recv_dur_2)],\n",
    "    [\"8clients\", mean(symenc_recv_dur_4), mean(sessenc_recv_dur_4), mean(pov_recv_dur_4), mean(tank_recv_dur_4), mean(app_recv_dur_4)],\n",
    "    [\"16clients\", mean(symenc_recv_dur_5), mean(sessenc_recv_dur_5), mean(pov_recv_dur_5), mean(tank_recv_dur_5), mean(app_recv_dur_5)],\n",
    "    [\"32clients\", mean(symenc_recv_dur_6), mean(sessenc_recv_dur_6), mean(pov_recv_dur_6), mean(tank_recv_dur_6), mean(app_recv_dur_6)],\n",
    "], columns=[\"op\", \"Sym-Enc\", \"Sess-Enc\", \"POVS\", \"TANK\", \"App logic\"])\n",
    "df.plot(x='op', kind='bar', stacked=True, title='Receive overheads')\n",
    "plt.show"
   ]
  },
  {
   "cell_type": "code",
   "execution_count": null,
   "id": "38d89ce9-2b2c-4eb0-9311-2a5e38fbcf6a",
   "metadata": {},
   "outputs": [],
   "source": []
  },
  {
   "cell_type": "code",
   "execution_count": null,
   "id": "425c6b2f-ce28-4f4a-8343-b0c6ae341909",
   "metadata": {},
   "outputs": [],
   "source": []
  }
 ],
 "metadata": {
  "kernelspec": {
   "display_name": "Python 3 (ipykernel)",
   "language": "python",
   "name": "python3"
  },
  "language_info": {
   "codemirror_mode": {
    "name": "ipython",
    "version": 3
   },
   "file_extension": ".py",
   "mimetype": "text/x-python",
   "name": "python",
   "nbconvert_exporter": "python",
   "pygments_lexer": "ipython3",
   "version": "3.10.12"
  }
 },
 "nbformat": 4,
 "nbformat_minor": 5
}
